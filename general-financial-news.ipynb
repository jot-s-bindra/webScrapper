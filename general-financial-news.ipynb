{
 "cells": [
  {
   "cell_type": "code",
   "execution_count": 9,
   "metadata": {},
   "outputs": [
    {
     "name": "stdout",
     "output_type": "stream",
     "text": [
      "Requirement already satisfied: bs4 in /home/outbreakkp/anaconda3/envs/nlp/lib/python3.11/site-packages (0.0.1)\n",
      "Requirement already satisfied: beautifulsoup4 in /home/outbreakkp/anaconda3/envs/nlp/lib/python3.11/site-packages (from bs4) (4.12.2)\n",
      "Requirement already satisfied: soupsieve>1.2 in /home/outbreakkp/anaconda3/envs/nlp/lib/python3.11/site-packages (from beautifulsoup4->bs4) (2.5)\n"
     ]
    }
   ],
   "source": [
    "!pip install bs4\n"
   ]
  },
  {
   "cell_type": "code",
   "execution_count": 10,
   "metadata": {},
   "outputs": [],
   "source": [
    "import requests\n",
    "import bs4"
   ]
  },
  {
   "cell_type": "code",
   "execution_count": 17,
   "metadata": {},
   "outputs": [
    {
     "data": {
      "text/html": [
       "<div>\n",
       "<style scoped>\n",
       "    .dataframe tbody tr th:only-of-type {\n",
       "        vertical-align: middle;\n",
       "    }\n",
       "\n",
       "    .dataframe tbody tr th {\n",
       "        vertical-align: top;\n",
       "    }\n",
       "\n",
       "    .dataframe thead th {\n",
       "        text-align: right;\n",
       "    }\n",
       "</style>\n",
       "<table border=\"1\" class=\"dataframe\">\n",
       "  <thead>\n",
       "    <tr style=\"text-align: right;\">\n",
       "      <th></th>\n",
       "      <th>Date-Time</th>\n",
       "      <th>Title</th>\n",
       "      <th>Description</th>\n",
       "    </tr>\n",
       "  </thead>\n",
       "  <tbody>\n",
       "    <tr>\n",
       "      <th>0</th>\n",
       "      <td>December 18, 2023 06:27 PM IST</td>\n",
       "      <td>DreamFolks launches card-based membership prog...</td>\n",
       "      <td>With the new program, people will be able to a...</td>\n",
       "    </tr>\n",
       "    <tr>\n",
       "      <th>1</th>\n",
       "      <td>December 18, 2023 06:23 PM IST</td>\n",
       "      <td>India-UK FTA’s fourteenth round of negotiation...</td>\n",
       "      <td>Indian businesses are demanding greater access...</td>\n",
       "    </tr>\n",
       "    <tr>\n",
       "      <th>2</th>\n",
       "      <td>December 18, 2023 06:12 PM IST</td>\n",
       "      <td>NHAI awards projects worth Rs 9,384 crore afte...</td>\n",
       "      <td>All projects awarded by the NHAI have been clu...</td>\n",
       "    </tr>\n",
       "    <tr>\n",
       "      <th>3</th>\n",
       "      <td>December 18, 2023 06:11 PM IST</td>\n",
       "      <td>Govt to launch ninth round of coal mines aucti...</td>\n",
       "      <td>Of the 26 coal mines to be launched for auctio...</td>\n",
       "    </tr>\n",
       "    <tr>\n",
       "      <th>4</th>\n",
       "      <td>December 18, 2023 06:29 PM IST</td>\n",
       "      <td>Executives more likely to feel safe taking ris...</td>\n",
       "      <td>Psychological safety refers to an environment ...</td>\n",
       "    </tr>\n",
       "  </tbody>\n",
       "</table>\n",
       "</div>"
      ],
      "text/plain": [
       "                        Date-Time  \\\n",
       "0  December 18, 2023 06:27 PM IST   \n",
       "1  December 18, 2023 06:23 PM IST   \n",
       "2  December 18, 2023 06:12 PM IST   \n",
       "3  December 18, 2023 06:11 PM IST   \n",
       "4  December 18, 2023 06:29 PM IST   \n",
       "\n",
       "                                               Title  \\\n",
       "0  DreamFolks launches card-based membership prog...   \n",
       "1  India-UK FTA’s fourteenth round of negotiation...   \n",
       "2  NHAI awards projects worth Rs 9,384 crore afte...   \n",
       "3  Govt to launch ninth round of coal mines aucti...   \n",
       "4  Executives more likely to feel safe taking ris...   \n",
       "\n",
       "                                         Description  \n",
       "0  With the new program, people will be able to a...  \n",
       "1  Indian businesses are demanding greater access...  \n",
       "2  All projects awarded by the NHAI have been clu...  \n",
       "3  Of the 26 coal mines to be launched for auctio...  \n",
       "4  Psychological safety refers to an environment ...  "
      ]
     },
     "execution_count": 17,
     "metadata": {},
     "output_type": "execute_result"
    }
   ],
   "source": [
    "import pandas as pd\n",
    "import requests\n",
    "from bs4 import BeautifulSoup\n",
    "\n",
    "date_times = []\n",
    "titles = []\n",
    "descriptions = []\n",
    "other_infos = []\n",
    "\n",
    "for page_num in range(2, 8):\n",
    "    url = f\"https://www.moneycontrol.com/news/business/page-{page_num}/\"\n",
    "    response = requests.get(url)\n",
    "    soup = BeautifulSoup(response.text, 'html.parser')\n",
    "\n",
    "    news_items = soup.find_all('li', class_='clearfix')\n",
    "\n",
    "    for news_item in news_items:\n",
    "        date_time = news_item.find('span').text.strip()\n",
    "        date_times.append(date_time)\n",
    "\n",
    "        title = news_item.find('h2').find('a').text.strip()\n",
    "        titles.append(title)\n",
    "\n",
    "        description = news_item.find_all('p')[0].text.strip()\n",
    "        descriptions.append(description)\n",
    "\n",
    "        other_info = news_item.find_all('p')[1].text.strip()\n",
    "        other_infos.append(other_info)\n",
    "\n",
    "data = {\n",
    "    'Date-Time': date_times,\n",
    "    'Title': titles,\n",
    "    'Description': descriptions,\n",
    "}\n",
    "\n",
    "df = pd.DataFrame(data)\n",
    "\n",
    "df.to_csv('news_data.csv', index=False)\n",
    "df.head()"
   ]
  },
  {
   "cell_type": "code",
   "execution_count": 18,
   "metadata": {},
   "outputs": [
    {
     "data": {
      "text/plain": [
       "150"
      ]
     },
     "execution_count": 18,
     "metadata": {},
     "output_type": "execute_result"
    }
   ],
   "source": [
    "df.shape[0]"
   ]
  },
  {
   "cell_type": "code",
   "execution_count": null,
   "metadata": {},
   "outputs": [],
   "source": []
  }
 ],
 "metadata": {
  "kernelspec": {
   "display_name": "nlp",
   "language": "python",
   "name": "python3"
  },
  "language_info": {
   "codemirror_mode": {
    "name": "ipython",
    "version": 3
   },
   "file_extension": ".py",
   "mimetype": "text/x-python",
   "name": "python",
   "nbconvert_exporter": "python",
   "pygments_lexer": "ipython3",
   "version": "3.11.5"
  }
 },
 "nbformat": 4,
 "nbformat_minor": 2
}
